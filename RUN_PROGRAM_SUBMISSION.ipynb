{
 "cells": [
  {
   "cell_type": "markdown",
   "metadata": {},
   "source": [
    "# TOS Privacy Analysis Tool Setup and Run\n",
    "\n",
    "This notebook will:\n",
    "1. Install required packages\n",
    "2. Download required spaCy models\n",
    "3. Start the server in the background\n",
    "4. Launch the GUI"
   ]
  },
  {
   "cell_type": "code",
   "execution_count": 9,
   "metadata": {},
   "outputs": [
    {
     "name": "stdout",
     "output_type": "stream",
     "text": [
      "Requirement already satisfied: flask==3.0.2 in c:\\users\\ryan\\anaconda3\\envs\\test-tos\\lib\\site-packages (from -r requirements.txt (line 1)) (3.0.2)\n",
      "Requirement already satisfied: flask-cors==4.0.0 in c:\\users\\ryan\\anaconda3\\envs\\test-tos\\lib\\site-packages (from -r requirements.txt (line 2)) (4.0.0)\n",
      "Requirement already satisfied: waitress==3.0.0 in c:\\users\\ryan\\anaconda3\\envs\\test-tos\\lib\\site-packages (from -r requirements.txt (line 3)) (3.0.0)\n",
      "Requirement already satisfied: paste==3.7.1 in c:\\users\\ryan\\anaconda3\\envs\\test-tos\\lib\\site-packages (from -r requirements.txt (line 4)) (3.7.1)\n",
      "Requirement already satisfied: sentence-transformers==2.5.1 in c:\\users\\ryan\\anaconda3\\envs\\test-tos\\lib\\site-packages (from -r requirements.txt (line 5)) (2.5.1)\n",
      "Requirement already satisfied: scikit-learn==1.4.1.post1 in c:\\users\\ryan\\anaconda3\\envs\\test-tos\\lib\\site-packages (from -r requirements.txt (line 6)) (1.4.1.post1)\n",
      "Requirement already satisfied: spacy==3.7.4 in c:\\users\\ryan\\anaconda3\\envs\\test-tos\\lib\\site-packages (from -r requirements.txt (line 7)) (3.7.4)\n",
      "Requirement already satisfied: numpy==1.26.4 in c:\\users\\ryan\\anaconda3\\envs\\test-tos\\lib\\site-packages (from -r requirements.txt (line 8)) (1.26.4)\n",
      "Requirement already satisfied: textblob==0.18.0 in c:\\users\\ryan\\anaconda3\\envs\\test-tos\\lib\\site-packages (from -r requirements.txt (line 9)) (0.18.0)\n",
      "Collecting pandas==2.2.3 (from -r requirements.txt (line 10))\n",
      "  Using cached pandas-2.2.3-cp312-cp312-win_amd64.whl.metadata (19 kB)\n",
      "Requirement already satisfied: Werkzeug>=3.0.0 in c:\\users\\ryan\\anaconda3\\envs\\test-tos\\lib\\site-packages (from flask==3.0.2->-r requirements.txt (line 1)) (3.1.3)\n",
      "Requirement already satisfied: Jinja2>=3.1.2 in c:\\users\\ryan\\anaconda3\\envs\\test-tos\\lib\\site-packages (from flask==3.0.2->-r requirements.txt (line 1)) (3.1.4)\n",
      "Requirement already satisfied: itsdangerous>=2.1.2 in c:\\users\\ryan\\anaconda3\\envs\\test-tos\\lib\\site-packages (from flask==3.0.2->-r requirements.txt (line 1)) (2.2.0)\n",
      "Requirement already satisfied: click>=8.1.3 in c:\\users\\ryan\\anaconda3\\envs\\test-tos\\lib\\site-packages (from flask==3.0.2->-r requirements.txt (line 1)) (8.1.7)\n",
      "Requirement already satisfied: blinker>=1.6.2 in c:\\users\\ryan\\anaconda3\\envs\\test-tos\\lib\\site-packages (from flask==3.0.2->-r requirements.txt (line 1)) (1.9.0)\n",
      "Requirement already satisfied: setuptools in c:\\users\\ryan\\anaconda3\\envs\\test-tos\\lib\\site-packages (from paste==3.7.1->-r requirements.txt (line 4)) (75.1.0)\n",
      "Requirement already satisfied: six>=1.4.0 in c:\\users\\ryan\\anaconda3\\envs\\test-tos\\lib\\site-packages (from paste==3.7.1->-r requirements.txt (line 4)) (1.17.0)\n",
      "Requirement already satisfied: transformers<5.0.0,>=4.32.0 in c:\\users\\ryan\\anaconda3\\envs\\test-tos\\lib\\site-packages (from sentence-transformers==2.5.1->-r requirements.txt (line 5)) (4.47.0)\n",
      "Requirement already satisfied: tqdm in c:\\users\\ryan\\anaconda3\\envs\\test-tos\\lib\\site-packages (from sentence-transformers==2.5.1->-r requirements.txt (line 5)) (4.67.1)\n",
      "Requirement already satisfied: torch>=1.11.0 in c:\\users\\ryan\\anaconda3\\envs\\test-tos\\lib\\site-packages (from sentence-transformers==2.5.1->-r requirements.txt (line 5)) (2.5.1)\n",
      "Requirement already satisfied: scipy in c:\\users\\ryan\\anaconda3\\envs\\test-tos\\lib\\site-packages (from sentence-transformers==2.5.1->-r requirements.txt (line 5)) (1.14.1)\n",
      "Requirement already satisfied: huggingface-hub>=0.15.1 in c:\\users\\ryan\\anaconda3\\envs\\test-tos\\lib\\site-packages (from sentence-transformers==2.5.1->-r requirements.txt (line 5)) (0.26.5)\n",
      "Requirement already satisfied: Pillow in c:\\users\\ryan\\anaconda3\\envs\\test-tos\\lib\\site-packages (from sentence-transformers==2.5.1->-r requirements.txt (line 5)) (11.0.0)\n",
      "Requirement already satisfied: joblib>=1.2.0 in c:\\users\\ryan\\anaconda3\\envs\\test-tos\\lib\\site-packages (from scikit-learn==1.4.1.post1->-r requirements.txt (line 6)) (1.4.2)\n",
      "Requirement already satisfied: threadpoolctl>=2.0.0 in c:\\users\\ryan\\anaconda3\\envs\\test-tos\\lib\\site-packages (from scikit-learn==1.4.1.post1->-r requirements.txt (line 6)) (3.5.0)\n",
      "Requirement already satisfied: spacy-legacy<3.1.0,>=3.0.11 in c:\\users\\ryan\\anaconda3\\envs\\test-tos\\lib\\site-packages (from spacy==3.7.4->-r requirements.txt (line 7)) (3.0.12)\n",
      "Requirement already satisfied: spacy-loggers<2.0.0,>=1.0.0 in c:\\users\\ryan\\anaconda3\\envs\\test-tos\\lib\\site-packages (from spacy==3.7.4->-r requirements.txt (line 7)) (1.0.5)\n",
      "Requirement already satisfied: murmurhash<1.1.0,>=0.28.0 in c:\\users\\ryan\\anaconda3\\envs\\test-tos\\lib\\site-packages (from spacy==3.7.4->-r requirements.txt (line 7)) (1.0.11)\n",
      "Requirement already satisfied: cymem<2.1.0,>=2.0.2 in c:\\users\\ryan\\anaconda3\\envs\\test-tos\\lib\\site-packages (from spacy==3.7.4->-r requirements.txt (line 7)) (2.0.10)\n",
      "Requirement already satisfied: preshed<3.1.0,>=3.0.2 in c:\\users\\ryan\\anaconda3\\envs\\test-tos\\lib\\site-packages (from spacy==3.7.4->-r requirements.txt (line 7)) (3.0.9)\n",
      "Requirement already satisfied: thinc<8.3.0,>=8.2.2 in c:\\users\\ryan\\anaconda3\\envs\\test-tos\\lib\\site-packages (from spacy==3.7.4->-r requirements.txt (line 7)) (8.2.5)\n",
      "Requirement already satisfied: wasabi<1.2.0,>=0.9.1 in c:\\users\\ryan\\anaconda3\\envs\\test-tos\\lib\\site-packages (from spacy==3.7.4->-r requirements.txt (line 7)) (1.1.3)\n",
      "Requirement already satisfied: srsly<3.0.0,>=2.4.3 in c:\\users\\ryan\\anaconda3\\envs\\test-tos\\lib\\site-packages (from spacy==3.7.4->-r requirements.txt (line 7)) (2.4.8)\n",
      "Requirement already satisfied: catalogue<2.1.0,>=2.0.6 in c:\\users\\ryan\\anaconda3\\envs\\test-tos\\lib\\site-packages (from spacy==3.7.4->-r requirements.txt (line 7)) (2.0.10)\n",
      "Requirement already satisfied: weasel<0.4.0,>=0.1.0 in c:\\users\\ryan\\anaconda3\\envs\\test-tos\\lib\\site-packages (from spacy==3.7.4->-r requirements.txt (line 7)) (0.3.4)\n",
      "Requirement already satisfied: typer<0.10.0,>=0.3.0 in c:\\users\\ryan\\anaconda3\\envs\\test-tos\\lib\\site-packages (from spacy==3.7.4->-r requirements.txt (line 7)) (0.9.4)\n",
      "Requirement already satisfied: smart-open<7.0.0,>=5.2.1 in c:\\users\\ryan\\anaconda3\\envs\\test-tos\\lib\\site-packages (from spacy==3.7.4->-r requirements.txt (line 7)) (6.4.0)\n",
      "Requirement already satisfied: requests<3.0.0,>=2.13.0 in c:\\users\\ryan\\anaconda3\\envs\\test-tos\\lib\\site-packages (from spacy==3.7.4->-r requirements.txt (line 7)) (2.32.3)\n",
      "Requirement already satisfied: pydantic!=1.8,!=1.8.1,<3.0.0,>=1.7.4 in c:\\users\\ryan\\anaconda3\\envs\\test-tos\\lib\\site-packages (from spacy==3.7.4->-r requirements.txt (line 7)) (2.10.3)\n",
      "Requirement already satisfied: packaging>=20.0 in c:\\users\\ryan\\anaconda3\\envs\\test-tos\\lib\\site-packages (from spacy==3.7.4->-r requirements.txt (line 7)) (24.2)\n",
      "Requirement already satisfied: langcodes<4.0.0,>=3.2.0 in c:\\users\\ryan\\anaconda3\\envs\\test-tos\\lib\\site-packages (from spacy==3.7.4->-r requirements.txt (line 7)) (3.5.0)\n",
      "Requirement already satisfied: nltk>=3.8 in c:\\users\\ryan\\anaconda3\\envs\\test-tos\\lib\\site-packages (from textblob==0.18.0->-r requirements.txt (line 9)) (3.9.1)\n",
      "Requirement already satisfied: python-dateutil>=2.8.2 in c:\\users\\ryan\\anaconda3\\envs\\test-tos\\lib\\site-packages (from pandas==2.2.3->-r requirements.txt (line 10)) (2.9.0.post0)\n",
      "Collecting pytz>=2020.1 (from pandas==2.2.3->-r requirements.txt (line 10))\n",
      "  Using cached pytz-2024.2-py2.py3-none-any.whl.metadata (22 kB)\n",
      "Collecting tzdata>=2022.7 (from pandas==2.2.3->-r requirements.txt (line 10))\n",
      "  Using cached tzdata-2024.2-py2.py3-none-any.whl.metadata (1.4 kB)\n",
      "Requirement already satisfied: colorama in c:\\users\\ryan\\anaconda3\\envs\\test-tos\\lib\\site-packages (from click>=8.1.3->flask==3.0.2->-r requirements.txt (line 1)) (0.4.6)\n",
      "Requirement already satisfied: filelock in c:\\users\\ryan\\anaconda3\\envs\\test-tos\\lib\\site-packages (from huggingface-hub>=0.15.1->sentence-transformers==2.5.1->-r requirements.txt (line 5)) (3.16.1)\n",
      "Requirement already satisfied: fsspec>=2023.5.0 in c:\\users\\ryan\\anaconda3\\envs\\test-tos\\lib\\site-packages (from huggingface-hub>=0.15.1->sentence-transformers==2.5.1->-r requirements.txt (line 5)) (2024.10.0)\n",
      "Requirement already satisfied: pyyaml>=5.1 in c:\\users\\ryan\\anaconda3\\envs\\test-tos\\lib\\site-packages (from huggingface-hub>=0.15.1->sentence-transformers==2.5.1->-r requirements.txt (line 5)) (6.0.2)\n",
      "Requirement already satisfied: typing-extensions>=3.7.4.3 in c:\\users\\ryan\\anaconda3\\envs\\test-tos\\lib\\site-packages (from huggingface-hub>=0.15.1->sentence-transformers==2.5.1->-r requirements.txt (line 5)) (4.12.2)\n",
      "Requirement already satisfied: MarkupSafe>=2.0 in c:\\users\\ryan\\anaconda3\\envs\\test-tos\\lib\\site-packages (from Jinja2>=3.1.2->flask==3.0.2->-r requirements.txt (line 1)) (3.0.2)\n",
      "Requirement already satisfied: language-data>=1.2 in c:\\users\\ryan\\anaconda3\\envs\\test-tos\\lib\\site-packages (from langcodes<4.0.0,>=3.2.0->spacy==3.7.4->-r requirements.txt (line 7)) (1.3.0)\n",
      "Requirement already satisfied: regex>=2021.8.3 in c:\\users\\ryan\\anaconda3\\envs\\test-tos\\lib\\site-packages (from nltk>=3.8->textblob==0.18.0->-r requirements.txt (line 9)) (2024.11.6)\n",
      "Requirement already satisfied: annotated-types>=0.6.0 in c:\\users\\ryan\\anaconda3\\envs\\test-tos\\lib\\site-packages (from pydantic!=1.8,!=1.8.1,<3.0.0,>=1.7.4->spacy==3.7.4->-r requirements.txt (line 7)) (0.7.0)\n",
      "Requirement already satisfied: pydantic-core==2.27.1 in c:\\users\\ryan\\anaconda3\\envs\\test-tos\\lib\\site-packages (from pydantic!=1.8,!=1.8.1,<3.0.0,>=1.7.4->spacy==3.7.4->-r requirements.txt (line 7)) (2.27.1)\n",
      "Requirement already satisfied: charset-normalizer<4,>=2 in c:\\users\\ryan\\anaconda3\\envs\\test-tos\\lib\\site-packages (from requests<3.0.0,>=2.13.0->spacy==3.7.4->-r requirements.txt (line 7)) (3.4.0)\n",
      "Requirement already satisfied: idna<4,>=2.5 in c:\\users\\ryan\\anaconda3\\envs\\test-tos\\lib\\site-packages (from requests<3.0.0,>=2.13.0->spacy==3.7.4->-r requirements.txt (line 7)) (3.10)\n",
      "Requirement already satisfied: urllib3<3,>=1.21.1 in c:\\users\\ryan\\anaconda3\\envs\\test-tos\\lib\\site-packages (from requests<3.0.0,>=2.13.0->spacy==3.7.4->-r requirements.txt (line 7)) (2.2.3)\n",
      "Requirement already satisfied: certifi>=2017.4.17 in c:\\users\\ryan\\anaconda3\\envs\\test-tos\\lib\\site-packages (from requests<3.0.0,>=2.13.0->spacy==3.7.4->-r requirements.txt (line 7)) (2024.8.30)\n",
      "Requirement already satisfied: blis<0.8.0,>=0.7.8 in c:\\users\\ryan\\anaconda3\\envs\\test-tos\\lib\\site-packages (from thinc<8.3.0,>=8.2.2->spacy==3.7.4->-r requirements.txt (line 7)) (0.7.11)\n",
      "Requirement already satisfied: confection<1.0.0,>=0.0.1 in c:\\users\\ryan\\anaconda3\\envs\\test-tos\\lib\\site-packages (from thinc<8.3.0,>=8.2.2->spacy==3.7.4->-r requirements.txt (line 7)) (0.1.5)\n",
      "Requirement already satisfied: networkx in c:\\users\\ryan\\anaconda3\\envs\\test-tos\\lib\\site-packages (from torch>=1.11.0->sentence-transformers==2.5.1->-r requirements.txt (line 5)) (3.4.2)\n",
      "Requirement already satisfied: sympy==1.13.1 in c:\\users\\ryan\\anaconda3\\envs\\test-tos\\lib\\site-packages (from torch>=1.11.0->sentence-transformers==2.5.1->-r requirements.txt (line 5)) (1.13.1)\n",
      "Requirement already satisfied: mpmath<1.4,>=1.1.0 in c:\\users\\ryan\\anaconda3\\envs\\test-tos\\lib\\site-packages (from sympy==1.13.1->torch>=1.11.0->sentence-transformers==2.5.1->-r requirements.txt (line 5)) (1.3.0)\n",
      "Requirement already satisfied: tokenizers<0.22,>=0.21 in c:\\users\\ryan\\anaconda3\\envs\\test-tos\\lib\\site-packages (from transformers<5.0.0,>=4.32.0->sentence-transformers==2.5.1->-r requirements.txt (line 5)) (0.21.0)\n",
      "Requirement already satisfied: safetensors>=0.4.1 in c:\\users\\ryan\\anaconda3\\envs\\test-tos\\lib\\site-packages (from transformers<5.0.0,>=4.32.0->sentence-transformers==2.5.1->-r requirements.txt (line 5)) (0.4.5)\n",
      "Requirement already satisfied: cloudpathlib<0.17.0,>=0.7.0 in c:\\users\\ryan\\anaconda3\\envs\\test-tos\\lib\\site-packages (from weasel<0.4.0,>=0.1.0->spacy==3.7.4->-r requirements.txt (line 7)) (0.16.0)\n",
      "Requirement already satisfied: marisa-trie>=1.1.0 in c:\\users\\ryan\\anaconda3\\envs\\test-tos\\lib\\site-packages (from language-data>=1.2->langcodes<4.0.0,>=3.2.0->spacy==3.7.4->-r requirements.txt (line 7)) (1.2.1)\n",
      "Using cached pandas-2.2.3-cp312-cp312-win_amd64.whl (11.5 MB)\n",
      "Using cached pytz-2024.2-py2.py3-none-any.whl (508 kB)\n",
      "Using cached tzdata-2024.2-py2.py3-none-any.whl (346 kB)\n",
      "Installing collected packages: pytz, tzdata, pandas\n",
      "Successfully installed pandas-2.2.3 pytz-2024.2 tzdata-2024.2\n"
     ]
    }
   ],
   "source": [
    "!pip install -r requirements.txt"
   ]
  },
  {
   "cell_type": "code",
   "execution_count": 10,
   "metadata": {},
   "outputs": [
    {
     "name": "stdout",
     "output_type": "stream",
     "text": [
      "^C\n",
      "Collecting en-core-web-sm==3.7.1\n",
      "  Downloading https://github.com/explosion/spacy-models/releases/download/en_core_web_sm-3.7.1/en_core_web_sm-3.7.1-py3-none-any.whl (12.8 MB)\n",
      "     ---------------------------------------- 0.0/12.8 MB ? eta -:--:--\n",
      "     ------------------ --------------------- 5.8/12.8 MB 29.4 MB/s eta 0:00:01\n",
      "     --------------------------------------  12.6/12.8 MB 34.3 MB/s eta 0:00:01\n",
      "     --------------------------------------- 12.8/12.8 MB 32.2 MB/s eta 0:00:00\n",
      "Requirement already satisfied: spacy<3.8.0,>=3.7.2 in c:\\users\\ryan\\anaconda3\\envs\\test-tos\\lib\\site-packages (from en-core-web-sm==3.7.1) (3.7.4)\n",
      "Requirement already satisfied: spacy-legacy<3.1.0,>=3.0.11 in c:\\users\\ryan\\anaconda3\\envs\\test-tos\\lib\\site-packages (from spacy<3.8.0,>=3.7.2->en-core-web-sm==3.7.1) (3.0.12)\n",
      "Requirement already satisfied: spacy-loggers<2.0.0,>=1.0.0 in c:\\users\\ryan\\anaconda3\\envs\\test-tos\\lib\\site-packages (from spacy<3.8.0,>=3.7.2->en-core-web-sm==3.7.1) (1.0.5)\n",
      "Requirement already satisfied: murmurhash<1.1.0,>=0.28.0 in c:\\users\\ryan\\anaconda3\\envs\\test-tos\\lib\\site-packages (from spacy<3.8.0,>=3.7.2->en-core-web-sm==3.7.1) (1.0.11)\n",
      "Requirement already satisfied: cymem<2.1.0,>=2.0.2 in c:\\users\\ryan\\anaconda3\\envs\\test-tos\\lib\\site-packages (from spacy<3.8.0,>=3.7.2->en-core-web-sm==3.7.1) (2.0.10)\n",
      "Requirement already satisfied: preshed<3.1.0,>=3.0.2 in c:\\users\\ryan\\anaconda3\\envs\\test-tos\\lib\\site-packages (from spacy<3.8.0,>=3.7.2->en-core-web-sm==3.7.1) (3.0.9)\n",
      "Requirement already satisfied: thinc<8.3.0,>=8.2.2 in c:\\users\\ryan\\anaconda3\\envs\\test-tos\\lib\\site-packages (from spacy<3.8.0,>=3.7.2->en-core-web-sm==3.7.1) (8.2.5)\n",
      "Requirement already satisfied: wasabi<1.2.0,>=0.9.1 in c:\\users\\ryan\\anaconda3\\envs\\test-tos\\lib\\site-packages (from spacy<3.8.0,>=3.7.2->en-core-web-sm==3.7.1) (1.1.3)\n",
      "Requirement already satisfied: srsly<3.0.0,>=2.4.3 in c:\\users\\ryan\\anaconda3\\envs\\test-tos\\lib\\site-packages (from spacy<3.8.0,>=3.7.2->en-core-web-sm==3.7.1) (2.4.8)\n",
      "Requirement already satisfied: catalogue<2.1.0,>=2.0.6 in c:\\users\\ryan\\anaconda3\\envs\\test-tos\\lib\\site-packages (from spacy<3.8.0,>=3.7.2->en-core-web-sm==3.7.1) (2.0.10)\n",
      "Requirement already satisfied: weasel<0.4.0,>=0.1.0 in c:\\users\\ryan\\anaconda3\\envs\\test-tos\\lib\\site-packages (from spacy<3.8.0,>=3.7.2->en-core-web-sm==3.7.1) (0.3.4)\n",
      "Requirement already satisfied: typer<0.10.0,>=0.3.0 in c:\\users\\ryan\\anaconda3\\envs\\test-tos\\lib\\site-packages (from spacy<3.8.0,>=3.7.2->en-core-web-sm==3.7.1) (0.9.4)\n",
      "Requirement already satisfied: smart-open<7.0.0,>=5.2.1 in c:\\users\\ryan\\anaconda3\\envs\\test-tos\\lib\\site-packages (from spacy<3.8.0,>=3.7.2->en-core-web-sm==3.7.1) (6.4.0)\n",
      "Requirement already satisfied: tqdm<5.0.0,>=4.38.0 in c:\\users\\ryan\\anaconda3\\envs\\test-tos\\lib\\site-packages (from spacy<3.8.0,>=3.7.2->en-core-web-sm==3.7.1) (4.67.1)\n",
      "Requirement already satisfied: requests<3.0.0,>=2.13.0 in c:\\users\\ryan\\anaconda3\\envs\\test-tos\\lib\\site-packages (from spacy<3.8.0,>=3.7.2->en-core-web-sm==3.7.1) (2.32.3)\n",
      "Requirement already satisfied: pydantic!=1.8,!=1.8.1,<3.0.0,>=1.7.4 in c:\\users\\ryan\\anaconda3\\envs\\test-tos\\lib\\site-packages (from spacy<3.8.0,>=3.7.2->en-core-web-sm==3.7.1) (2.10.3)\n",
      "Requirement already satisfied: jinja2 in c:\\users\\ryan\\anaconda3\\envs\\test-tos\\lib\\site-packages (from spacy<3.8.0,>=3.7.2->en-core-web-sm==3.7.1) (3.1.4)\n",
      "Requirement already satisfied: setuptools in c:\\users\\ryan\\anaconda3\\envs\\test-tos\\lib\\site-packages (from spacy<3.8.0,>=3.7.2->en-core-web-sm==3.7.1) (75.1.0)\n",
      "Requirement already satisfied: packaging>=20.0 in c:\\users\\ryan\\anaconda3\\envs\\test-tos\\lib\\site-packages (from spacy<3.8.0,>=3.7.2->en-core-web-sm==3.7.1) (24.2)\n",
      "Requirement already satisfied: langcodes<4.0.0,>=3.2.0 in c:\\users\\ryan\\anaconda3\\envs\\test-tos\\lib\\site-packages (from spacy<3.8.0,>=3.7.2->en-core-web-sm==3.7.1) (3.5.0)\n",
      "Requirement already satisfied: numpy>=1.19.0 in c:\\users\\ryan\\anaconda3\\envs\\test-tos\\lib\\site-packages (from spacy<3.8.0,>=3.7.2->en-core-web-sm==3.7.1) (1.26.4)\n",
      "Requirement already satisfied: language-data>=1.2 in c:\\users\\ryan\\anaconda3\\envs\\test-tos\\lib\\site-packages (from langcodes<4.0.0,>=3.2.0->spacy<3.8.0,>=3.7.2->en-core-web-sm==3.7.1) (1.3.0)\n",
      "Requirement already satisfied: annotated-types>=0.6.0 in c:\\users\\ryan\\anaconda3\\envs\\test-tos\\lib\\site-packages (from pydantic!=1.8,!=1.8.1,<3.0.0,>=1.7.4->spacy<3.8.0,>=3.7.2->en-core-web-sm==3.7.1) (0.7.0)\n",
      "Requirement already satisfied: pydantic-core==2.27.1 in c:\\users\\ryan\\anaconda3\\envs\\test-tos\\lib\\site-packages (from pydantic!=1.8,!=1.8.1,<3.0.0,>=1.7.4->spacy<3.8.0,>=3.7.2->en-core-web-sm==3.7.1) (2.27.1)\n",
      "Requirement already satisfied: typing-extensions>=4.12.2 in c:\\users\\ryan\\anaconda3\\envs\\test-tos\\lib\\site-packages (from pydantic!=1.8,!=1.8.1,<3.0.0,>=1.7.4->spacy<3.8.0,>=3.7.2->en-core-web-sm==3.7.1) (4.12.2)\n",
      "Requirement already satisfied: charset-normalizer<4,>=2 in c:\\users\\ryan\\anaconda3\\envs\\test-tos\\lib\\site-packages (from requests<3.0.0,>=2.13.0->spacy<3.8.0,>=3.7.2->en-core-web-sm==3.7.1) (3.4.0)\n",
      "Requirement already satisfied: idna<4,>=2.5 in c:\\users\\ryan\\anaconda3\\envs\\test-tos\\lib\\site-packages (from requests<3.0.0,>=2.13.0->spacy<3.8.0,>=3.7.2->en-core-web-sm==3.7.1) (3.10)\n",
      "Requirement already satisfied: urllib3<3,>=1.21.1 in c:\\users\\ryan\\anaconda3\\envs\\test-tos\\lib\\site-packages (from requests<3.0.0,>=2.13.0->spacy<3.8.0,>=3.7.2->en-core-web-sm==3.7.1) (2.2.3)\n",
      "Requirement already satisfied: certifi>=2017.4.17 in c:\\users\\ryan\\anaconda3\\envs\\test-tos\\lib\\site-packages (from requests<3.0.0,>=2.13.0->spacy<3.8.0,>=3.7.2->en-core-web-sm==3.7.1) (2024.8.30)\n",
      "Requirement already satisfied: blis<0.8.0,>=0.7.8 in c:\\users\\ryan\\anaconda3\\envs\\test-tos\\lib\\site-packages (from thinc<8.3.0,>=8.2.2->spacy<3.8.0,>=3.7.2->en-core-web-sm==3.7.1) (0.7.11)\n",
      "Requirement already satisfied: confection<1.0.0,>=0.0.1 in c:\\users\\ryan\\anaconda3\\envs\\test-tos\\lib\\site-packages (from thinc<8.3.0,>=8.2.2->spacy<3.8.0,>=3.7.2->en-core-web-sm==3.7.1) (0.1.5)\n",
      "Requirement already satisfied: colorama in c:\\users\\ryan\\anaconda3\\envs\\test-tos\\lib\\site-packages (from tqdm<5.0.0,>=4.38.0->spacy<3.8.0,>=3.7.2->en-core-web-sm==3.7.1) (0.4.6)\n",
      "Requirement already satisfied: click<9.0.0,>=7.1.1 in c:\\users\\ryan\\anaconda3\\envs\\test-tos\\lib\\site-packages (from typer<0.10.0,>=0.3.0->spacy<3.8.0,>=3.7.2->en-core-web-sm==3.7.1) (8.1.7)\n",
      "Requirement already satisfied: cloudpathlib<0.17.0,>=0.7.0 in c:\\users\\ryan\\anaconda3\\envs\\test-tos\\lib\\site-packages (from weasel<0.4.0,>=0.1.0->spacy<3.8.0,>=3.7.2->en-core-web-sm==3.7.1) (0.16.0)\n",
      "Requirement already satisfied: MarkupSafe>=2.0 in c:\\users\\ryan\\anaconda3\\envs\\test-tos\\lib\\site-packages (from jinja2->spacy<3.8.0,>=3.7.2->en-core-web-sm==3.7.1) (3.0.2)\n",
      "Requirement already satisfied: marisa-trie>=1.1.0 in c:\\users\\ryan\\anaconda3\\envs\\test-tos\\lib\\site-packages (from language-data>=1.2->langcodes<4.0.0,>=3.2.0->spacy<3.8.0,>=3.7.2->en-core-web-sm==3.7.1) (1.2.1)\n",
      "\u001b[38;5;2m✔ Download and installation successful\u001b[0m\n",
      "You can now load the package via spacy.load('en_core_web_sm')\n",
      "Finished.\n"
     ]
    },
    {
     "name": "stderr",
     "output_type": "stream",
     "text": [
      "[nltk_data] Downloading package brown to\n",
      "[nltk_data]     C:\\Users\\Ryan\\AppData\\Roaming\\nltk_data...\n",
      "[nltk_data]   Package brown is already up-to-date!\n",
      "[nltk_data] Downloading package punkt to\n",
      "[nltk_data]     C:\\Users\\Ryan\\AppData\\Roaming\\nltk_data...\n",
      "[nltk_data]   Package punkt is already up-to-date!\n",
      "[nltk_data] Downloading package wordnet to\n",
      "[nltk_data]     C:\\Users\\Ryan\\AppData\\Roaming\\nltk_data...\n",
      "[nltk_data]   Package wordnet is already up-to-date!\n",
      "[nltk_data] Downloading package averaged_perceptron_tagger to\n",
      "[nltk_data]     C:\\Users\\Ryan\\AppData\\Roaming\\nltk_data...\n",
      "[nltk_data]   Package averaged_perceptron_tagger is already up-to-\n",
      "[nltk_data]       date!\n",
      "[nltk_data] Downloading package conll2000 to\n",
      "[nltk_data]     C:\\Users\\Ryan\\AppData\\Roaming\\nltk_data...\n",
      "[nltk_data]   Package conll2000 is already up-to-date!\n",
      "[nltk_data] Downloading package movie_reviews to\n",
      "[nltk_data]     C:\\Users\\Ryan\\AppData\\Roaming\\nltk_data...\n",
      "[nltk_data]   Package movie_reviews is already up-to-date!\n"
     ]
    }
   ],
   "source": [
    "!python -m spacy download en_core_web_sm\n",
    "#!python -m textblob.download_corpora"
   ]
  },
  {
   "cell_type": "code",
   "execution_count": 11,
   "metadata": {},
   "outputs": [],
   "source": [
    "# Import required modules\n",
    "import subprocess\n",
    "import time\n",
    "import sys\n",
    "import os\n",
    "from pathlib import Path"
   ]
  },
  {
   "cell_type": "code",
   "execution_count": 12,
   "metadata": {},
   "outputs": [],
   "source": [
    "# Verify cleanedTOS directory exists\n",
    "if not Path(\"cleanedTOS\").exists():\n",
    "    print(\"Creating cleanedTOS directory...\")\n",
    "    Path(\"cleanedTOS\").mkdir(exist_ok=True)\n",
    "    # Add a sample TOS file for testing\n",
    "    with open(\"cleanedTOS/sample_policy.txt\", \"w\") as f:\n",
    "        f.write(\"This is a sample privacy policy.\\n\\nWe collect your personal information.\\n\\nWe share data with third parties.\")"
   ]
  },
  {
   "cell_type": "code",
   "execution_count": 13,
   "metadata": {},
   "outputs": [
    {
     "name": "stdout",
     "output_type": "stream",
     "text": [
      "Starting server...\n",
      "Server started in background\n"
     ]
    }
   ],
   "source": [
    "# Start the server in the background\n",
    "def start_server():\n",
    "    server_process = subprocess.Popen(\n",
    "        [sys.executable, \"src/server.py\"],\n",
    "        stdout=subprocess.PIPE,\n",
    "        stderr=subprocess.PIPE\n",
    "    )\n",
    "    # Wait a moment for the server to start\n",
    "    time.sleep(5)\n",
    "    return server_process\n",
    "\n",
    "print(\"Starting server...\")\n",
    "server_process = start_server()\n",
    "print(\"Server started in background\")"
   ]
  },
  {
   "cell_type": "code",
   "execution_count": 14,
   "metadata": {},
   "outputs": [
    {
     "name": "stdout",
     "output_type": "stream",
     "text": [
      "Starting GUI...\n",
      "\n",
      "Processing chunk 1/2\n",
      "Found matches - High: 0, Medium: 1, Low: 14\n",
      "\n",
      "Processing chunk 2/2\n",
      "Found matches - High: 0, Medium: 0, Low: 2\n",
      "Shutting down server...\n"
     ]
    }
   ],
   "source": [
    "# Run the GUI\n",
    "try:\n",
    "    print(\"Starting GUI...\")\n",
    "    !python src/GUI.py\n",
    "finally:\n",
    "    # Cleanup: terminate the server when done\n",
    "    print(\"Shutting down server...\")\n",
    "    server_process.terminate()\n",
    "    server_process.wait()"
   ]
  },
  {
   "cell_type": "code",
   "execution_count": null,
   "metadata": {},
   "outputs": [],
   "source": []
  }
 ],
 "metadata": {
  "kernelspec": {
   "display_name": "Test-TOS",
   "language": "python",
   "name": "python3"
  },
  "language_info": {
   "codemirror_mode": {
    "name": "ipython",
    "version": 3
   },
   "file_extension": ".py",
   "mimetype": "text/x-python",
   "name": "python",
   "nbconvert_exporter": "python",
   "pygments_lexer": "ipython3",
   "version": "3.12.7"
  }
 },
 "nbformat": 4,
 "nbformat_minor": 2
}
